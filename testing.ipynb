{
 "cells": [
  {
   "cell_type": "markdown",
   "metadata": {},
   "source": [
    "# Inits"
   ]
  },
  {
   "cell_type": "code",
   "execution_count": 1,
   "metadata": {},
   "outputs": [],
   "source": [
    "import pandas as pd\n",
    "from sklearn import svm"
   ]
  },
  {
   "cell_type": "markdown",
   "metadata": {},
   "source": [
    "# Reading and formatting data"
   ]
  },
  {
   "cell_type": "code",
   "execution_count": 2,
   "metadata": {},
   "outputs": [
    {
     "name": "stdout",
     "output_type": "stream",
     "text": [
      "               ID                sequence   gene  distance     score\n",
      "0     id_PRDM2-10  GTTTTACAGTACATCTGAAAGT  PRDM2    -44483       NaN\n",
      "1      id_PRDM2-5   GCTGACCTGCCTTCTAACAAG  PRDM2    -44396  0.177674\n",
      "2      id_PRDM2-3   GACAGTATCACAGATCAAGAA  PRDM2    -44300  0.230363\n",
      "3    id_PRDM2-SD1    GAGCCAGCGCCCGGAGCAAG  PRDM2        26  0.089286\n",
      "4    id_PRDM2-SD3    GCTCCGCTTGCTCCGGGCGC  PRDM2        32 -0.152766\n",
      "..            ...                     ...    ...       ...       ...\n",
      "150  id_KDM5C-SD2   GGGAGGTAACTGTGGTGGCGA  KDM5C        54  0.003474\n",
      "151  id_KDM5C-SD1    GCGCTGAAGGCCGCGGCGTT  KDM5C        33 -0.045968\n",
      "152    id_KDM5C-1    GGCTGGTATGGGTTTCTATT  KDM5C      -134 -0.028234\n",
      "153    id_KDM5D-3    GACGATTGGTAAGCAGCTAC  KDM5D        54  0.044147\n",
      "154    id_KDM5D-6   GTACCACACTGCAGGGCCCGG  KDM5D        -1  0.029813\n",
      "\n",
      "[155 rows x 5 columns]\n"
     ]
    },
    {
     "name": "stderr",
     "output_type": "stream",
     "text": [
      "c:\\Users\\jacks\\AppData\\Local\\Programs\\Python\\Python311\\Lib\\site-packages\\openpyxl\\worksheet\\_reader.py:329: UserWarning: Unknown extension is not supported and will be removed\n",
      "  warn(msg)\n"
     ]
    }
   ],
   "source": [
    "df = pd.read_excel(\"nar-00915-met-h-2016-File011.xlsx\", skiprows = 1)\n",
    "df = df.rename(columns = {\"sgRNA_id\": \"ID\",\n",
    "                          \"sgRNA_sequence\": \"sequence\",\n",
    "                          \"target_gene\": \"gene\",\n",
    "                          \"distance_to_CAGE\": \"distance\",\n",
    "                          \"sgRNA_SSC_score\": \"score\"})\n",
    "df = df.loc[:, [\"ID\", \"sequence\", \"gene\", \"distance\", \"score\"]]\n",
    "print(df)"
   ]
  },
  {
   "cell_type": "code",
   "execution_count": null,
   "metadata": {},
   "outputs": [],
   "source": [
    "# testing test"
   ]
  }
 ],
 "metadata": {
  "kernelspec": {
   "display_name": "Python 3",
   "language": "python",
   "name": "python3"
  },
  "language_info": {
   "codemirror_mode": {
    "name": "ipython",
    "version": 3
   },
   "file_extension": ".py",
   "mimetype": "text/x-python",
   "name": "python",
   "nbconvert_exporter": "python",
   "pygments_lexer": "ipython3",
   "version": "3.11.2"
  }
 },
 "nbformat": 4,
 "nbformat_minor": 2
}
